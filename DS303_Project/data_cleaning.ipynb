{
 "cells": [
  {
   "cell_type": "code",
   "execution_count": 15,
   "metadata": {},
   "outputs": [],
   "source": [
    "import os\n",
    "import cv2\n",
    "import matplotlib.pyplot as plt\n",
    "import time"
   ]
  },
  {
   "cell_type": "code",
   "execution_count": 16,
   "metadata": {},
   "outputs": [
    {
     "name": "stdout",
     "output_type": "stream",
     "text": [
      "['./Dogs', './Cat', './Butterfly', './Sheep', './Spider', './Chicken', './Horse', './Squirrel', './Cow', './Elephant']\n"
     ]
    }
   ],
   "source": [
    "subdirs = [x[0] for x in os.walk('.', topdown= True)]\n",
    "subdirs = subdirs[1:]\n",
    "print(subdirs)"
   ]
  },
  {
   "cell_type": "code",
   "execution_count": 17,
   "metadata": {},
   "outputs": [
    {
     "name": "stdout",
     "output_type": "stream",
     "text": [
      "0 4863\n",
      "1 1668\n",
      "2 2112\n",
      "3 1820\n",
      "4 4821\n",
      "5 3098\n",
      "6 2623\n",
      "7 1862\n",
      "8 1866\n",
      "9 1446\n"
     ]
    }
   ],
   "source": [
    "for i in range(len(subdirs)):\n",
    "    m = os.listdir(subdirs[i])\n",
    "    print(i,len(m))\n",
    "    #print(os.getcwd() +subdirs[i][1:]+ str('/')+ m[0])\n",
    "    for j in range(1000):\n",
    "        try:\n",
    "            image_path = os.getcwd()+subdirs[i][1:]+ str('/')+ m[j]\n",
    "            image = cv2.imread(image_path)\n",
    "            #image = image * 255\n",
    "            image = cv2.resize(image, (300,300), interpolation = cv2.INTER_LINEAR)\n",
    "            cv2.imwrite(image_path, image)\n",
    "        except OSError:\n",
    "            print(i, j)\n",
    "    for j in range(1000,len(m)):\n",
    "        try:\n",
    "            image_path = os.getcwd()+subdirs[i][1:]+ str('/')+ m[j]\n",
    "            os.remove(image_path)\n",
    "            #image = image * 255\n",
    "        except OSError:\n",
    "            print(i, j)"
   ]
  },
  {
   "cell_type": "code",
   "execution_count": 18,
   "metadata": {},
   "outputs": [
    {
     "name": "stdout",
     "output_type": "stream",
     "text": [
      "1000\n",
      "1000\n",
      "1000\n",
      "1000\n",
      "1000\n",
      "1000\n",
      "1000\n",
      "1000\n",
      "1000\n",
      "1000\n"
     ]
    }
   ],
   "source": [
    "for i in range(len(subdirs)):\n",
    "    m = os.listdir(subdirs[i])\n",
    "    print(len(m))"
   ]
  }
 ],
 "metadata": {
  "kernelspec": {
   "display_name": "base",
   "language": "python",
   "name": "python3"
  },
  "language_info": {
   "codemirror_mode": {
    "name": "ipython",
    "version": 3
   },
   "file_extension": ".py",
   "mimetype": "text/x-python",
   "name": "python",
   "nbconvert_exporter": "python",
   "pygments_lexer": "ipython3",
   "version": "3.9.10"
  },
  "orig_nbformat": 4
 },
 "nbformat": 4,
 "nbformat_minor": 2
}
